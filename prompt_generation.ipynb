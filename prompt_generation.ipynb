{
 "cells": [
  {
   "cell_type": "code",
   "execution_count": 12,
   "metadata": {},
   "outputs": [],
   "source": [
    "import json\n",
    "import pandas as pd"
   ]
  },
  {
   "cell_type": "code",
   "execution_count": 37,
   "metadata": {},
   "outputs": [
    {
     "name": "stdout",
     "output_type": "stream",
     "text": [
      "Number of adjectives: 72\n",
      "Number of AI prompts: 93\n",
      "Number of human prompts: 6\n"
     ]
    }
   ],
   "source": [
    "adj_df = pd.read_csv('adjectives_list.csv')\n",
    "\n",
    "with open('ai_prompts.txt', 'r') as f:\n",
    "    ai_prompts = [l.strip() for l in f.readlines()]\n",
    "\n",
    "with open('human_prompts.txt', 'r') as f:\n",
    "    human_prompts = [l.strip() for l in f.readlines()]\n",
    "\n",
    "print(f'Number of adjectives: {len(adj_df)}')\n",
    "print(f'Number of AI prompts: {len(ai_prompts)}')\n",
    "print(f'Number of human prompts: {len(human_prompts)}')"
   ]
  },
  {
   "cell_type": "code",
   "execution_count": 38,
   "metadata": {},
   "outputs": [],
   "source": [
    "all_prompts_dict = dict()\n",
    "for i, r in adj_df.iterrows():\n",
    "    adj, abs_n = r['Comparative'], r['Abstract Noun']\n",
    "    all_prompts_dict[adj] = dict()\n",
    "    all_prompts_dict[adj]['abstract_noun'] = abs_n\n",
    "    all_prompts_dict[adj]['ai'] = [p.format(adjective=adj, abs_noun=abs_n) for p in ai_prompts]\n",
    "    all_prompts_dict[adj]['human'] = [p.format(adjective=adj, abs_noun=abs_n) for p in human_prompts]"
   ]
  },
  {
   "cell_type": "code",
   "execution_count": 39,
   "metadata": {},
   "outputs": [],
   "source": [
    "with open('all_prompts.json', 'w') as f:\n",
    "    json.dump(all_prompts_dict, f, indent=4)"
   ]
  },
  {
   "cell_type": "code",
   "execution_count": null,
   "metadata": {},
   "outputs": [],
   "source": []
  }
 ],
 "metadata": {
  "kernelspec": {
   "display_name": ".venv",
   "language": "python",
   "name": "python3"
  },
  "language_info": {
   "codemirror_mode": {
    "name": "ipython",
    "version": 3
   },
   "file_extension": ".py",
   "mimetype": "text/x-python",
   "name": "python",
   "nbconvert_exporter": "python",
   "pygments_lexer": "ipython3",
   "version": "3.10.6"
  },
  "orig_nbformat": 4
 },
 "nbformat": 4,
 "nbformat_minor": 2
}
