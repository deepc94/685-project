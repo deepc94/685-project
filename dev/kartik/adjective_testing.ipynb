{
 "cells": [
  {
   "cell_type": "code",
   "execution_count": 2,
   "metadata": {},
   "outputs": [],
   "source": [
    "from transformers import (CLIPProcessor, CLIPModel, CLIPTextModel, AutoTokenizer, AutoProcessor, CLIPVisionModel)\n",
    "from datasets import load_dataset\n",
    "from matplotlib import pyplot as plt\n",
    "import numpy as np\n",
    "import math\n",
    "from sklearn.metrics import accuracy_score\n",
    "from sklearn.metrics.pairwise import cosine_similarity\n",
    "import itertools\n",
    "from PIL import Image\n",
    "from zipfile import ZipFile\n",
    "\n",
    "import torch\n",
    "import torch.nn as nn\n",
    "import torch.nn.functional as F\n",
    "import torch.optim as optim"
   ]
  },
  {
   "cell_type": "code",
   "execution_count": 3,
   "metadata": {},
   "outputs": [
    {
     "name": "stderr",
     "output_type": "stream",
     "text": [
      "Downloading (…)lve/main/config.json: 100%|██████████| 4.19k/4.19k [00:00<00:00, 1.71MB/s]\n",
      "Downloading pytorch_model.bin: 100%|██████████| 605M/605M [00:28<00:00, 21.0MB/s] \n",
      "Downloading (…)rocessor_config.json: 100%|██████████| 316/316 [00:00<00:00, 188kB/s]\n",
      "Downloading (…)okenizer_config.json: 100%|██████████| 568/568 [00:00<00:00, 239kB/s]\n",
      "Downloading (…)olve/main/vocab.json: 100%|██████████| 862k/862k [00:00<00:00, 8.14MB/s]\n",
      "Downloading (…)olve/main/merges.txt: 100%|██████████| 525k/525k [00:00<00:00, 5.32MB/s]\n",
      "Downloading (…)/main/tokenizer.json: 100%|██████████| 2.22M/2.22M [00:00<00:00, 11.7MB/s]\n",
      "Downloading (…)cial_tokens_map.json: 100%|██████████| 389/389 [00:00<00:00, 262kB/s]\n"
     ]
    }
   ],
   "source": [
    "# Name of the pre-trained base model\n",
    "base_model_name = 'openai/clip-vit-base-patch32'\n",
    "\n",
    "# Pre-trained CLIP model\n",
    "model = CLIPModel.from_pretrained(base_model_name)\n",
    "processor = CLIPProcessor.from_pretrained(base_model_name)"
   ]
  },
  {
   "cell_type": "code",
   "execution_count": null,
   "metadata": {},
   "outputs": [],
   "source": [
    "class CLIPWrapper:\n",
    "    def __init__(self, clip_model, clip_processor, template_pos:str, template_neg:str):\n",
    "        self.clip_model = clip_model\n",
    "        self.clip_processor = clip_processor\n",
    "        self.template_pos = template_pos\n",
    "        self.template_neg = template_neg\n",
    "\n",
    "    def _prompts(self):\n",
    "        \"\"\"return text prompts for CLIP\"\"\"\n",
    "        prompts = []\n",
    "        for attr in CLIPWrapper.ATTRIBUTES:\n",
    "            for t in self.template:\n",
    "                prompts.append(t.format(attr=attr))\n",
    "        return prompts\n",
    "\n",
    "    def set_template(self, template_pos:str, template_neg:str):\n",
    "        self.template_pos = template_pos\n",
    "        self.template_neg = template_neg\n",
    "\n",
    "    def __call__(self, x):\n",
    "        texts = self._prompts()\n",
    "        inputs = self.clip_processor(text=texts, images=x, return_tensors=\"pt\", padding=True)\n",
    "        outputs = self.clip_model(**inputs)\n",
    "\n",
    "        # given M images, N texts, output shape will be M x N\n",
    "        logits_per_image = outputs.logits_per_image # this is the image-text similarity score\n",
    "        N_img, N_txt = logits_per_image.shape\n",
    "        N_temp = len(self.template)\n",
    "        N_attr = len(CLIPWrapper.ATTRIBUTES)\n",
    "        assert N_txt == N_attr*N_temp, f'Num text ({N_txt}) != Num template x Num attrs ({N_temp}x{N_attr}={N_temp*N_attr})'\n",
    "\n",
    "        logits_data = logits_per_image.data.reshape(N_img, N_attr, N_temp)\n",
    "\n",
    "        return logits_data.softmax(dim=-1)\n",
    "\n",
    "    def pred(self, x):\n",
    "        probs = self(x)\n",
    "        return probs.argmax(dim=-1)"
   ]
  }
 ],
 "metadata": {
  "kernelspec": {
   "display_name": ".venv",
   "language": "python",
   "name": "python3"
  },
  "language_info": {
   "codemirror_mode": {
    "name": "ipython",
    "version": 3
   },
   "file_extension": ".py",
   "mimetype": "text/x-python",
   "name": "python",
   "nbconvert_exporter": "python",
   "pygments_lexer": "ipython3",
   "version": "3.10.6"
  },
  "orig_nbformat": 4
 },
 "nbformat": 4,
 "nbformat_minor": 2
}
