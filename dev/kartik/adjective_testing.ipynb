{
 "cells": [
  {
   "cell_type": "code",
   "execution_count": 2,
   "metadata": {},
   "outputs": [
    {
     "name": "stderr",
     "output_type": "stream",
     "text": [
      "/Users/kartik/git/685-project/.venv/lib/python3.10/site-packages/tqdm/auto.py:21: TqdmWarning: IProgress not found. Please update jupyter and ipywidgets. See https://ipywidgets.readthedocs.io/en/stable/user_install.html\n",
      "  from .autonotebook import tqdm as notebook_tqdm\n"
     ]
    }
   ],
   "source": [
    "from transformers import (CLIPProcessor, CLIPModel, CLIPTextModel, AutoTokenizer, AutoProcessor, CLIPVisionModel)\n",
    "from datasets import load_dataset\n",
    "from matplotlib import pyplot as plt\n",
    "import numpy as np\n",
    "import math\n",
    "from sklearn.metrics import accuracy_score, top_k_accuracy_score\n",
    "from sklearn.metrics.pairwise import cosine_similarity\n",
    "import itertools\n",
    "from PIL import Image\n",
    "from zipfile import ZipFile\n",
    "import pandas as pd\n",
    "\n",
    "import torch\n",
    "import torch.nn as nn\n",
    "import torch.nn.functional as F\n",
    "import torch.optim as optim"
   ]
  },
  {
   "cell_type": "code",
   "execution_count": 3,
   "metadata": {},
   "outputs": [],
   "source": [
    "# Name of the pre-trained base model\n",
    "base_model_name = 'openai/clip-vit-base-patch32'\n",
    "\n",
    "# Pre-trained CLIP model\n",
    "model = CLIPModel.from_pretrained(base_model_name)\n",
    "processor = CLIPProcessor.from_pretrained(base_model_name)"
   ]
  },
  {
   "cell_type": "code",
   "execution_count": 119,
   "metadata": {},
   "outputs": [
    {
     "data": {
      "text/plain": [
       "tensor([[1., 2., 3.],\n",
       "        [3., 2., 1.]])"
      ]
     },
     "execution_count": 119,
     "metadata": {},
     "output_type": "execute_result"
    }
   ],
   "source": [
    "x = torch.Tensor([[1,2,3],[3,2,1]])\n",
    "x"
   ]
  },
  {
   "cell_type": "code",
   "execution_count": 124,
   "metadata": {},
   "outputs": [
    {
     "data": {
      "text/plain": [
       "tensor([0.4223, 0.1554, 0.4223])"
      ]
     },
     "execution_count": 124,
     "metadata": {},
     "output_type": "execute_result"
    }
   ],
   "source": [
    "x.max(axis=0).values.softmax(dim=0)"
   ]
  },
  {
   "cell_type": "code",
   "execution_count": 136,
   "metadata": {},
   "outputs": [],
   "source": [
    "class CLIPWrapper:\n",
    "    ADJECTIVES = ['bigger', 'cleaner', 'hairier', 'older', 'colder', 'longer',\n",
    "       'harder', 'drier', 'closer', 'fatter', 'curlier', 'riper',\n",
    "       'blacker', 'heavier', 'sharper', 'fuller', 'shinier', 'smoother',\n",
    "       'rustier', 'coarser', 'fresher', 'flatter', 'narrower', 'thicker',\n",
    "       'higher', 'lighter', 'brighter', 'curvier', 'deeper', 'farther',\n",
    "       'newer', 'bluer', 'shorter', 'denser', 'flakier', 'fewer',\n",
    "       'fancier', 'cloudier', 'broader']\n",
    "    \n",
    "    A_to_I = {adj: i for i, adj in enumerate(ADJECTIVES)}\n",
    "\n",
    "    def __init__(self, clip_model, clip_processor, template_pos:str, template_neg:str):\n",
    "        self.clip_model = clip_model\n",
    "        self.clip_processor = clip_processor\n",
    "        self.template_pos = template_pos\n",
    "        self.template_neg = template_neg\n",
    "\n",
    "    def set_template(self, template_pos:str, template_neg:str):\n",
    "        self.template_pos = template_pos\n",
    "        self.template_neg = template_neg\n",
    "\n",
    "    def get_pos_preds(self, dataset):\n",
    "        n = len(dataset)\n",
    "        imgs = [data['image'] for data in dataset]\n",
    "        labels = [CLIPWrapper.A_to_I[data['adjective']] for data in dataset]\n",
    "        texts_1 = [self.template_pos.format(adjective=adj) for adj in self.ADJECTIVES]\n",
    "        texts_2 = [self.template_pos.format(adjective=adj_antonym_reverse.get(adj, adj)) for adj in self.ADJECTIVES]\n",
    "        inputs = self.clip_processor(text=texts_1+texts_2, images=imgs, return_tensors='pt', padding=True)\n",
    "        with torch.no_grad():\n",
    "            outputs = self.clip_model(**inputs)\n",
    "            logits_per_image = outputs.logits_per_image\n",
    "            logits_per_image = logits_per_image.reshape((n, 2, -1)).mean(axis=1).values     # can be mean?\n",
    "            probs = logits_per_image.softmax(dim=-1).cpu().numpy()\n",
    "            # return probs, labels\n",
    "            return {'preds':probs, 'labels':labels}\n",
    "        \n",
    "    def get_neg_preds(self, dataset):\n",
    "        n = len(dataset)\n",
    "        imgs = [data['image'] for data in dataset]\n",
    "        labels = [CLIPWrapper.A_to_I[data['adjective']] for data in dataset]\n",
    "        # texts = [self.template_neg.format(adj=adj) for adj in self.ADJECTIVES]\n",
    "        texts_1 = [self.template_neg.format(adjective=adj) for adj in self.ADJECTIVES]\n",
    "        texts_2 = [self.template_neg.format(adjective=adj_antonym_reverse.get(adj, adj)) for adj in self.ADJECTIVES]\n",
    "        inputs = self.clip_processor(text=texts_1+texts_2, images=imgs, return_tensors='pt', padding=True)\n",
    "        with torch.no_grad():\n",
    "            outputs = self.clip_model(**inputs)\n",
    "            logits_per_image = outputs.logits_per_image            # not negating the output of negative prompts\n",
    "            logits_per_image = logits_per_image.reshape((n, 2, -1)).mean(axis=1).values   # doing min to give best chance\n",
    "            probs = logits_per_image.softmax(dim=-1).cpu().numpy()\n",
    "            # return probs, labels\n",
    "            return {'preds':probs, 'labels':labels}\n",
    "        \n",
    "    def get_contrastive_preds(self, dataset):\n",
    "        n = len(dataset)\n",
    "        imgs = [data['image'] for data in dataset]\n",
    "        labels = [CLIPWrapper.A_to_I[data['adjective']] for data in dataset]\n",
    "        texts = []\n",
    "        for adj in self.ADJECTIVES:\n",
    "            texts.append(self.template_pos.format(adj=adj))\n",
    "            texts.append(self.template_neg.format(adj=adj))\n",
    "        inputs = self.clip_processor(text=texts, images=imgs, return_tensors='pt', padding=True)\n",
    "        with torch.no_grad():\n",
    "            outputs = self.clip_model(**inputs)\n",
    "            logits_per_image = outputs.logits_per_image\n",
    "            logits_per_image = logits_per_image.reshape((n, -1, 2))\n",
    "            logits_per_image_contrastive = logits_per_image[...,0] - logits_per_image[...,1]        # pos - neg\n",
    "            probs_per_image_contrastive = logits_per_image_contrastive.softmax(axis=-1).cpu().numpy()\n",
    "            # return probs_per_image_contrastive, labels\n",
    "            return {'preds':probs_per_image_contrastive, 'labels':labels}\n",
    "        "
   ]
  },
  {
   "cell_type": "code",
   "execution_count": 137,
   "metadata": {},
   "outputs": [
    {
     "name": "stderr",
     "output_type": "stream",
     "text": [
      "Found cached dataset final_dataset (/Users/kartik/.cache/huggingface/datasets/final_dataset/default/0.0.0/ff78fd73bcc051f1cecb0ccb2ac8e7e02fc7cb3d082e8aca8c11cbeee057a425)\n"
     ]
    },
    {
     "name": "stdout",
     "output_type": "stream",
     "text": [
      "(257, 2)\n"
     ]
    }
   ],
   "source": [
    "dataset = load_dataset('Final_Dataset', split='train')\n",
    "print(dataset.shape)\n",
    "\n",
    "template_pos = 'The objects in this image can be compared using the adjective \\'{adjective}\\'.'\n",
    "template_neg = 'The objects in this image cannot be compared using the adjective \\'{adjective}\\'.'\n",
    "wrapper = CLIPWrapper(model, processor, template_pos, template_neg)"
   ]
  },
  {
   "cell_type": "code",
   "execution_count": 144,
   "metadata": {},
   "outputs": [
    {
     "data": {
      "text/plain": [
       "DatasetInfo(description='Demo dataset for demo purposes.\\n', citation='Bibtex citation\\n', homepage='homepage for the dataset (e.g. github repo)', license='(MIT?)', features={'image': Image(decode=True, id=None), 'adjective': Value(dtype='string', id=None)}, post_processed=None, supervised_keys=None, task_templates=None, builder_name='final_dataset', config_name='default', version=0.0.0, splits={'train': SplitInfo(name='train', num_bytes=78094303, num_examples=257, shard_lengths=None, dataset_name='final_dataset'), 'test': SplitInfo(name='test', num_bytes=0, num_examples=0, shard_lengths=None, dataset_name='final_dataset')}, download_checksums={'data.zip': {'num_bytes': 76562529, 'checksum': None}, 'metadata/train.csv': {'num_bytes': 3209, 'checksum': None}, 'metadata/test.csv': {'num_bytes': 21, 'checksum': None}}, download_size=76565759, post_processing_size=None, dataset_size=78094303, size_in_bytes=154660062)"
      ]
     },
     "execution_count": 144,
     "metadata": {},
     "output_type": "execute_result"
    }
   ],
   "source": [
    "dataset.info"
   ]
  },
  {
   "cell_type": "code",
   "execution_count": 138,
   "metadata": {},
   "outputs": [
    {
     "name": "stdout",
     "output_type": "stream",
     "text": [
      "(257, 39)\n",
      "(257, 39)\n"
     ]
    }
   ],
   "source": [
    "preds_pos = wrapper.get_pos_preds(dataset)\n",
    "print(preds_pos['preds'].shape)\n",
    "\n",
    "preds_neg = wrapper.get_neg_preds(dataset)\n",
    "print(preds_neg['preds'].shape)\n",
    "\n",
    "# preds_contrastive = wrapper.get_contrastive_preds(dataset)\n",
    "# print(preds_contrastive['preds'].shape)"
   ]
  },
  {
   "cell_type": "code",
   "execution_count": null,
   "metadata": {},
   "outputs": [],
   "source": [
    "def get_top_k_accs(k_vals, print_results=True, **preds):\n",
    "    k_accs = {key:[] for key in preds}\n",
    "    k_accs['random'] = []\n",
    "    l = len(CLIPWrapper.ADJECTIVES)\n",
    "\n",
    "    for k in k_vals:\n",
    "        print_strs = [f'Top - {k:2} accuracy:: ']\n",
    "        for key, value in preds.items():\n",
    "            acc = top_k_accuracy_score(value['labels'], value['preds'], k=k)\n",
    "            k_accs[key].append(acc)\n",
    "            print_strs.append(f'{key}: {acc*100:6.2f}%. ')\n",
    "        k_accs['random'].append(k/l)\n",
    "        print_strs.append(f'Random: {(k/l)*100:6.2f}%.')\n",
    "\n",
    "        if print_results:\n",
    "            print(*print_strs)\n",
    "\n",
    "    return k_accs\n",
    "\n",
    "def plot_top_k_accs(k_vals, k_accs):\n",
    "    fig, ax = plt.subplots()\n",
    "    for key, value in k_accs.items():\n",
    "        if key=='random':\n",
    "            ax.plot(k_vals, value, label='Random guessing', linewidth=0.5, linestyle='--')\n",
    "        else:\n",
    "            ax.plot(k_vals, value, label=key, marker='o')\n",
    "    ax.set_xlabel('k')\n",
    "    ax.set_ylabel('Top-k accuracy')\n",
    "    ax.set_title('Top-k accuracy vs k')\n",
    "    ax.set_ylim(0, 1)\n",
    "    ax.set_xlim(0, 39)\n",
    "    ax.legend()\n",
    "    fig.show()"
   ]
  },
  {
   "cell_type": "code",
   "execution_count": 88,
   "metadata": {},
   "outputs": [],
   "source": [
    "metadata_df = pd.read_csv('Final_Dataset/metadata/train.csv')"
   ]
  },
  {
   "cell_type": "code",
   "execution_count": 97,
   "metadata": {},
   "outputs": [],
   "source": [
    "metadata_df.to_csv('Final_Dataset/metadata/train.csv', index=False)"
   ]
  },
  {
   "cell_type": "code",
   "execution_count": 98,
   "metadata": {},
   "outputs": [
    {
     "data": {
      "text/plain": [
       "array(['bigger', 'cleaner', 'hairier', 'older', 'colder', 'longer',\n",
       "       'harder', 'drier', 'closer', 'fatter', 'curlier', 'riper',\n",
       "       'blacker', 'heavier', 'sharper', 'fuller', 'shinier', 'smoother',\n",
       "       'rustier', 'coarser', 'fresher', 'flatter', 'narrower', 'thicker',\n",
       "       'higher', 'lighter', 'brighter', 'curvier', 'deeper', 'farther',\n",
       "       'newer', 'bluer', 'shorter', 'denser', 'flakier', 'fewer',\n",
       "       'fancier', 'cloudier', 'broader'], dtype=object)"
      ]
     },
     "execution_count": 98,
     "metadata": {},
     "output_type": "execute_result"
    }
   ],
   "source": [
    "metadata_df['adjective'].unique()"
   ]
  },
  {
   "cell_type": "code",
   "execution_count": 91,
   "metadata": {},
   "outputs": [
    {
     "data": {
      "text/plain": [
       "64"
      ]
     },
     "execution_count": 91,
     "metadata": {},
     "output_type": "execute_result"
    }
   ],
   "source": [
    "metadata_df['adjective'].nunique()"
   ]
  },
  {
   "cell_type": "code",
   "execution_count": 92,
   "metadata": {},
   "outputs": [],
   "source": [
    "metadata_df['adjective']=metadata_df['adjective'].apply(lambda x: adj_antonym_mapping.get(x, x))"
   ]
  },
  {
   "cell_type": "code",
   "execution_count": 93,
   "metadata": {},
   "outputs": [
    {
     "data": {
      "text/plain": [
       "39"
      ]
     },
     "execution_count": 93,
     "metadata": {},
     "output_type": "execute_result"
    }
   ],
   "source": [
    "metadata_df['adjective'].nunique()"
   ]
  },
  {
   "cell_type": "code",
   "execution_count": 82,
   "metadata": {},
   "outputs": [],
   "source": [
    "adj_antonym_mapping = {\n",
    "    'smaller': 'bigger',\n",
    "    'dimmer': 'brighter',\n",
    "    'slimmer': 'broader',\n",
    "    'dirtier': 'cleaner',\n",
    "    'farther': 'closer',\n",
    "    'sunnier': 'cloudier',\n",
    "    'finer': 'coarser',\n",
    "    'hotter': 'colder',\n",
    "    'warmer': 'cooler',\n",
    "    'straighter': 'curlier',\n",
    "    'shallower': 'deeper',\n",
    "    'wetter': 'drier',\n",
    "    'later': 'earlier',\n",
    "    'plainer': 'fancier',\n",
    "    'nearer': 'farther',\n",
    "    'skinnier': 'fatter',\n",
    "    'rounder': 'flatter',\n",
    "    'staler': 'fresher',\n",
    "    'emptier': 'fuller',\n",
    "    'softer': 'harder',\n",
    "    'lighter': 'heavier',\n",
    "    'lower': 'higher',\n",
    "    'darker': 'lighter',\n",
    "    'shorter': 'longer',\n",
    "    'wider': 'narrower',\n",
    "    'younger': 'older',\n",
    "    'blunter': 'sharper',\n",
    "    'duller': 'shinier',\n",
    "    'taller': 'shorter',\n",
    "    'rougher': 'smoother',\n",
    "    'thinner': 'thicker'}"
   ]
  },
  {
   "cell_type": "code",
   "execution_count": 99,
   "metadata": {},
   "outputs": [],
   "source": [
    "adj_antonym_reverse = dict()\n",
    "for k, v in adj_antonym_mapping.items():\n",
    "    adj_antonym_reverse[v] = k"
   ]
  },
  {
   "cell_type": "code",
   "execution_count": 102,
   "metadata": {},
   "outputs": [
    {
     "data": {
      "text/plain": [
       "31"
      ]
     },
     "execution_count": 102,
     "metadata": {},
     "output_type": "execute_result"
    }
   ],
   "source": [
    "len(adj_antonym_mapping)"
   ]
  },
  {
   "cell_type": "code",
   "execution_count": 86,
   "metadata": {},
   "outputs": [
    {
     "name": "stdout",
     "output_type": "stream",
     "text": [
      "hairier\n",
      "riper\n",
      "blacker\n",
      "rustier\n",
      "curvier\n",
      "newer\n",
      "bluer\n",
      "denser\n",
      "flakier\n",
      "fewer\n"
     ]
    }
   ],
   "source": [
    "found_set = set()\n",
    "for k, v in adj_antonym_mapping.items():\n",
    "    found_set.add(k)\n",
    "    found_set.add(v)\n",
    "for a in CLIPWrapper.ADJECTIVES:\n",
    "    if a not in found_set:\n",
    "        print(a)"
   ]
  },
  {
   "cell_type": "code",
   "execution_count": 139,
   "metadata": {},
   "outputs": [
    {
     "name": "stdout",
     "output_type": "stream",
     "text": [
      "Top -  1 accuracy::  positive:  15.56%.  negative:  12.06%.  Random:   2.56%.\n",
      "Top -  2 accuracy::  positive:  24.51%.  negative:  15.56%.  Random:   5.13%.\n",
      "Top -  5 accuracy::  positive:  40.86%.  negative:  27.24%.  Random:  12.82%.\n",
      "Top - 10 accuracy::  positive:  50.97%.  negative:  47.08%.  Random:  25.64%.\n",
      "Top - 20 accuracy::  positive:  77.04%.  negative:  69.65%.  Random:  51.28%.\n",
      "Top - 32 accuracy::  positive:  93.39%.  negative:  91.83%.  Random:  82.05%.\n"
     ]
    },
    {
     "name": "stderr",
     "output_type": "stream",
     "text": [
      "/var/folders/91/2vsvzkhd2m1cs8fkz6v51dkw0000gn/T/ipykernel_12881/2899755726.py:33: UserWarning: Matplotlib is currently using module://matplotlib_inline.backend_inline, which is a non-GUI backend, so cannot show the figure.\n",
      "  fig.show()\n"
     ]
    },
    {
     "data": {
      "image/png": "[encoded data removed]",
      "text/plain": [
       "<Figure size 640x480 with 1 Axes>"
      ]
     },
     "metadata": {},
     "output_type": "display_data"
    }
   ],
   "source": [
    "k_vals = [1, 2, 5, 10, 20, 32]\n",
    "k_accs = get_top_k_accs(k_vals, positive=preds_pos, negative=preds_neg)#, contrastive=preds_contrastive)\n",
    "plot_top_k_accs(k_vals, k_accs)"
   ]
  },
  {
   "cell_type": "code",
   "execution_count": 57,
   "metadata": {},
   "outputs": [
    {
     "name": "stderr",
     "output_type": "stream",
     "text": [
      "/var/folders/91/2vsvzkhd2m1cs8fkz6v51dkw0000gn/T/ipykernel_75560/3621981112.py:12: UserWarning: Matplotlib is currently using module://matplotlib_inline.backend_inline, which is a non-GUI backend, so cannot show the figure.\n",
      "  fig.show()\n"
     ]
    },
    {
     "data": {
      "image/png": "[encoded data removed]",
      "text/plain": [
       "<Figure size 1600x800 with 1 Axes>"
      ]
     },
     "metadata": {},
     "output_type": "display_data"
    }
   ],
   "source": [
    "preds_int = preds.argmax(axis=1)\n",
    "fig, ax = plt.subplots(figsize=(16, 8))\n",
    "ax.hist(labels, bins=len(CLIPWrapper.ADJECTIVES), histtype='step', color='gray')\n",
    "ax.hist(preds_int, bins=len(CLIPWrapper.ADJECTIVES))\n",
    "\n",
    "# make histogram of labels in line style\n",
    "# ax.set_xticks(range(len(CLIPWrapper.ADJECTIVES)))\n",
    "# ax.set_xticklabels(CLIPWrapper.ADJECTIVES, rotation=90)\n",
    "# ax.set_xlabel('Adjective')\n",
    "ax.set_ylabel('Count')\n",
    "ax.set_title('Distribution of predicted adjectives')\n",
    "fig.show()"
   ]
  },
  {
   "cell_type": "code",
   "execution_count": 60,
   "metadata": {},
   "outputs": [
    {
     "data": {
      "text/plain": [
       "array([[ 1, 11],\n",
       "       [ 2, 22],\n",
       "       [ 3, 33],\n",
       "       [ 4, 44],\n",
       "       [ 5, 55]])"
      ]
     },
     "execution_count": 60,
     "metadata": {},
     "output_type": "execute_result"
    }
   ],
   "source": [
    "l = [1, 11, 2, 22, 3, 33, 4, 44, 5, 55]\n",
    "nl = np.array(l)\n",
    "nl.reshape(5, 2)"
   ]
  },
  {
   "cell_type": "code",
   "execution_count": 109,
   "metadata": {},
   "outputs": [
    {
     "data": {
      "text/plain": [
       "array([[11, 11, 11],\n",
       "       [22, 22, 22]])"
      ]
     },
     "execution_count": 109,
     "metadata": {},
     "output_type": "execute_result"
    }
   ],
   "source": [
    "nl = np.array([[1,1,1,11,11,11], [2,2,2,22,22,22]])\n",
    "n = len(nl)\n",
    "nl.reshape((n, 2,-1)).max(axis=1)"
   ]
  },
  {
   "cell_type": "code",
   "execution_count": 104,
   "metadata": {},
   "outputs": [
    {
     "data": {
      "text/plain": [
       "array([[[ 1,  1],\n",
       "        [ 1, 11],\n",
       "        [11, 11]],\n",
       "\n",
       "       [[ 2,  2],\n",
       "        [ 2, 22],\n",
       "        [22, 22]]])"
      ]
     },
     "execution_count": 104,
     "metadata": {},
     "output_type": "execute_result"
    }
   ],
   "source": [
    "nl.reshape((n,-1,2))"
   ]
  },
  {
   "cell_type": "code",
   "execution_count": null,
   "metadata": {},
   "outputs": [],
   "source": []
  }
 ],
 "metadata": {
  "kernelspec": {
   "display_name": ".venv",
   "language": "python",
   "name": "python3"
  },
  "language_info": {
   "codemirror_mode": {
    "name": "ipython",
    "version": 3
   },
   "file_extension": ".py",
   "mimetype": "text/x-python",
   "name": "python",
   "nbconvert_exporter": "python",
   "pygments_lexer": "ipython3",
   "version": "3.10.6"
  },
  "orig_nbformat": 4
 },
 "nbformat": 4,
 "nbformat_minor": 2
}
